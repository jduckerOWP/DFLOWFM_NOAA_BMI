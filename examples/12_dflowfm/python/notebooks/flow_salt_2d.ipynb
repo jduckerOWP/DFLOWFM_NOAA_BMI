{
 "metadata": {
  "name": "",
  "signature": "sha256:860463c52fb1ea65b15c43e970966f8d716f6c7a70e416b1ef0463fa81732ee9"
 },
 "nbformat": 3,
 "nbformat_minor": 0,
 "worksheets": [
  {
   "cells": [
    {
     "cell_type": "code",
     "collapsed": false,
     "input": [
      "import os\n",
      "import json\n",
      "import bmi.wrapper\n",
      "\n",
      "dll_path = os.path.abspath('../../bin/Win32/Debug/unstruc.dll')\n",
      "config_file = os.path.abspath('../../test_data/flow_salt_2d_small/2d.mdu')\n",
      "\n",
      "model = bmi.wrapper.BMIWrapper(engine=dll_path, configfile=config_file)\n",
      "model.initialize()\n",
      "\n",
      "for i in range(model.get_var_count()):\n",
      "    print model.get_var_name(i)\n",
      "\n",
      "model.update(-1)\n",
      "\n",
      "s1 = model.get_var('s1').copy()\n",
      "print(s1)\n",
      "\n",
      "model.set_var('s1', s1)"
     ],
     "language": "python",
     "metadata": {},
     "outputs": [
      {
       "output_type": "stream",
       "stream": "stdout",
       "text": [
        "Uorb\n",
        "twav\n",
        "shx\n",
        "shy\n",
        "shi\n",
        "zsp\n",
        "shL\n",
        "shB\n",
        "shd\n",
        "stuw\n",
        "fstuw\n",
        "stuwmx\n",
        "roer\n",
        "froer\n",
        "roermx\n",
        "wx\n",
        "wy\n",
        "s0\n",
        "s1\n",
        "hs\n",
        "ucx\n",
        "ucy\n",
        "ucz\n",
        "sa0\n",
        "sa1\n",
        "satop\n",
        "u1\n",
        "frcu\n",
        "viusp\n",
        "kfs\n",
        "ba\n",
        "bl\n",
        "iadv\n",
        "vort\n",
        "xzw\n",
        "yzw\n",
        "xk\n",
        "yk\n",
        "zk\n",
        "kn\n",
        "\n",
        "uabs\n",
        "sed1\n",
        "netelemnode\n",
        "flowelemnode\n",
        "[ 1.          1.          1.         ...,  2.89998629  2.89998629\n",
        "  2.89998629]\n"
       ]
      }
     ],
     "prompt_number": 1
    },
    {
     "cell_type": "code",
     "collapsed": false,
     "input": [
      "print model.get_var('ba')"
     ],
     "language": "python",
     "metadata": {},
     "outputs": [
      {
       "output_type": "stream",
       "stream": "stdout",
       "text": [
        "[ 25.  25.  25. ...,  25.  25.  25.]\n"
       ]
      }
     ],
     "prompt_number": 5
    },
    {
     "cell_type": "code",
     "collapsed": false,
     "input": [],
     "language": "python",
     "metadata": {},
     "outputs": []
    }
   ],
   "metadata": {}
  }
 ]
}