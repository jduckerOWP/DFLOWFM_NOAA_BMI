{
 "metadata": {
  "name": "",
  "signature": "sha256:f65df8e9765ba3703645d2d2d75cf2721a0f35820aa68fd68ab042a684928a47"
 },
 "nbformat": 3,
 "nbformat_minor": 0,
 "worksheets": [
  {
   "cells": [
    {
     "cell_type": "code",
     "collapsed": false,
     "input": [
      "import os\n",
      "import bmi\n",
      "import bmi.wrapper\n",
      "\n",
      "engine=os.path.abspath(r'..\\..\\bin\\Win32\\Release\\unstruc')\n",
      "config_file=os.path.abspath(r'..\\..\\test_data\\e00_unstruc\\f05_boundary_conditions\\c030_dischargedbnd\\input\\bendprof.mdu')\n",
      "\n",
      "model = bmi.wrapper.BMIWrapper(engine, config_file)\n",
      "model.initialize()\n",
      "\n",
      "model.update(-1)\n",
      "\n",
      "print('model variables:')\n",
      "\n",
      "for i in range(model.get_var_count()):\n",
      "    try:\n",
      "        name = model.get_var_name(i)\n",
      "        print('{} name: {}, shape: {}, type: {}'.format(i, name, model.get_var_shape(name), model.get_var_type(name)))\n",
      "    except ValueError as e:\n",
      "        print \">>> Oops!  Error getting variable at index \" + str(i) + \", error: \" + str(e)\n",
      "\n",
      "model.finalize()"
     ],
     "language": "python",
     "metadata": {},
     "outputs": [
      {
       "output_type": "stream",
       "stream": "stdout",
       "text": [
        "model variables:\n",
        "0 name: Uorb, shape: (1640,), type: double\n",
        "1 name: twav, shape: (1640,), type: double\n",
        "2 name: shx, shape: (0,), type: double\n",
        "3 name: shy, shape: (0,), type: double\n",
        "4 name: shi, shape: (0,), type: double\n",
        "5 name: zsp, shape: (0,), type: double\n",
        "6 name: shL, shape: (2,), type: double\n",
        "7 name: shB, shape: (2,), type: double\n",
        "8 name: shd, shape: (2,), type: double\n",
        "9 name: stuw, shape: (2,), type: double\n",
        "10 name: fstuw, shape: (2,), type: double\n",
        "11 name: stuwmx, shape: (2,), type: double\n",
        "12 name: roer, shape: (2,), type: double\n",
        "13 name: froer, shape: (2,), type: double\n",
        "14 name: roermx, shape: (2,), type: double\n",
        "15 name: wx, shape: (3140,), type: double\n",
        "16 name: wy, shape: (3140,), type: double\n",
        "17 name: s0, shape: (1640,), type: double\n",
        "18 name: s1, shape: (1640,), type: double\n",
        "19 name: hs, shape: (1640,), type: double\n",
        "20 name: ucx, shape: (1640,), type: double\n",
        "21 name: ucy, shape: (1640,), type: double\n",
        "22 name: ucz, shape: (1640,), type: double\n",
        "23 name: sa1, shape: (1640,), type: double\n",
        "24 name: satop, shape: (1640,), type: double\n",
        "25 name: u1, shape: (3140,), type: double\n",
        "26 name: frcu, shape: (3140,), type: float\n",
        "27 name: viusp, shape: (3140,), type: float\n",
        "28 name: kfs, shape: (1640,), type: int\n",
        "29 name: bl, shape: (1640,), type: double\n",
        "30 name: iadv, shape: (3140,), type: int\n",
        "31 name: vort, shape: (1640,), type: double\n",
        "32 name: xzw, shape: (1600,), type: double\n",
        "33 name: yzw, shape: (1600,), type: double\n",
        "34 name: xk, shape: (1701,), type: double\n",
        "35 name: yk, shape: (1701,), type: double\n",
        "36 name: zk, shape: (1701,), type: double\n",
        "37 name: kn, shape: (3300, 3), type: int\n",
        ">>> Oops!  Error getting variable at index 38, error: 'ascii' codec can't decode byte 0xe6 in position 1: ordinal not in range(128)\n",
        "39 name: uabs, shape: (), type: \n",
        "40 name: sed1, shape: (), type: \n",
        "41 name: netelemnode, shape: (1600, 4), type: int\n",
        "42 name: flowelemnode, shape: (1640, 4), type: int\n"
       ]
      }
     ],
     "prompt_number": 1
    }
   ],
   "metadata": {}
  }
 ]
}