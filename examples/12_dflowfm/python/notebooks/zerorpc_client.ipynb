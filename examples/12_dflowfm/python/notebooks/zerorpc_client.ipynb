{
 "metadata": {
  "name": "",
  "signature": "sha256:dc033cffe218676a8d05705d2b5feabdb51ab10284c8e8d6731ffc5b61826c14"
 },
 "nbformat": 3,
 "nbformat_minor": 0,
 "worksheets": [
  {
   "cells": [
    {
     "cell_type": "code",
     "collapsed": false,
     "input": [
      "import zerorpc\n",
      "\n",
      "client = zerorpc.Client()\n",
      "client.connect(\"tcp://127.0.0.1:4242\")\n",
      "\n",
      "mdu_file = '2d.mdu'\n",
      "client.initialize(mdu_file)\n",
      "\n",
      "client.update(0.1)\n",
      "\n",
      "%timeit client.get_string_attribute('refdat')\n",
      "\n",
      "%timeit client.get_1d_double('xk')"
     ],
     "language": "python",
     "metadata": {},
     "outputs": [
      {
       "output_type": "stream",
       "stream": "stdout",
       "text": [
        "1000 loops, best of 3: 753 \u00b5s per loop\n",
        "1000 loops, best of 3: 1.17 ms per loop"
       ]
      },
      {
       "output_type": "stream",
       "stream": "stdout",
       "text": [
        "\n"
       ]
      }
     ],
     "prompt_number": 1
    },
    {
     "cell_type": "code",
     "collapsed": false,
     "input": [],
     "language": "python",
     "metadata": {},
     "outputs": []
    }
   ],
   "metadata": {}
  }
 ]
}