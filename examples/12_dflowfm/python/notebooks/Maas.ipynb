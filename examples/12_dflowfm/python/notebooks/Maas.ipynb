{
 "metadata": {
  "name": ""
 },
 "nbformat": 3,
 "nbformat_minor": 0,
 "worksheets": [
  {
   "cells": [
    {
     "cell_type": "code",
     "collapsed": false,
     "input": [
      "# set default figure size\n",
      "pylab.rcParams['figure.figsize'] = (20.0, 9.0)"
     ],
     "language": "python",
     "metadata": {},
     "outputs": [],
     "prompt_number": 9
    },
    {
     "cell_type": "code",
     "collapsed": false,
     "input": [
      "import netCDF4 as nc\n",
      "    \n",
      "def plot_grid(ax, path, points=False, point_color='k', point_size=4, point_alpha=0.6, point_marker='o',\n",
      "              cells=True, cell_color='black', cell_alpha=0.2, cell_values=None, cells_colorbar=False,\n",
      "              cell_centers=False, cell_links=False, cell_labels=False, cell_labels_variable='domain', \n",
      "              boundary_edges=False):\n",
      "\n",
      "    # read grid\n",
      "    ds = nc.Dataset(path)\n",
      "    x = ds.variables['NetNode_x'][:]\n",
      "    y = ds.variables['NetNode_y'][:]\n",
      "    z = ds.variables['NetNode_z'][:]\n",
      "    cell_points = ds.variables['NetElemNode'][:]\n",
      "    \n",
      "    if points:\n",
      "        ax.plot(x, y, point_color + point_marker, markersize=point_size, linestyle='', alpha=point_alpha)\n",
      "\n",
      "    if cells:\n",
      "        # construct collection of polygon vertices, list of lists of (x,y) tuples\n",
      "        cell_sizes = (cell_points > 0).sum(1)\n",
      "        cell_count = len(cell_points)\n",
      "        \n",
      "        print cell_sizes\n",
      "        \n",
      "        all_cell_coords = []\n",
      "        for i in range(cell_count):\n",
      "            cell_size = cell_sizes[i]\n",
      "            cell_coords = []\n",
      "            \n",
      "            for j in range(cell_size):\n",
      "                index = cell_points[i, j] - 1\n",
      "                cell_coords.append((x[index], y[index]))\n",
      "            all_cell_coords.append(cell_coords)\n",
      "\n",
      "        polygons = matplotlib.collections.PolyCollection(all_cell_coords)\n",
      "        polygons.set_alpha(cell_alpha)\n",
      "        \n",
      "        if cell_values != None:            \n",
      "            #polygons.clim=(min(cell_values), max(cell_values))\n",
      "            polygons.set_array(cell_values)\n",
      "        else:\n",
      "            polygons.set_facecolor(cell_color)\n",
      "        \n",
      "        if cells_colorbar:\n",
      "            cb = plt.colorbar(polygons, ax=ax)   \n",
      "            cb.set_label('cell values')\n",
      "        \n",
      "        polygons.set_edgecolor(cell_color)    \n",
      "        ax.add_collection(polygons)\n",
      "    \n",
      "    if cell_centers:\n",
      "        xcc = ds.variables['FlowElem_xcc'][:]\n",
      "        ycc = ds.variables['FlowElem_ycc'][:]        \n",
      "        ax.plot(xcc, ycc, 'bo', markersize=4, linestyle='', alpha=point_alpha)\n",
      "        \n",
      "    if cell_labels:\n",
      "        xcc = ds.variables['FlowElem_xcc'][:]\n",
      "        ycc = ds.variables['FlowElem_ycc'][:]\n",
      "        # cell_labels_list = range(len(xcc))\n",
      "\n",
      "        if cell_labels_variable == 'domain':\n",
      "            cell_labels_list = ds.variables['FlowElemDomain'][:]\n",
      "        elif cell_labels_variable == 'index':\n",
      "            cell_labels_list = np.arange(len(xcc)) + 1\n",
      "            \n",
      "        for xc, yc, n in zip(xcc, ycc, cell_labels_list):\n",
      "            ax.annotate('{}'.format(n), xy=(xc, yc), xytext=(-3, 0), ha='right', textcoords='offset points', \n",
      "                        fontweight='bold', fontsize=9)\n",
      "        \n",
      "    if cell_links:\n",
      "        flow_links = ds.variables['FlowLink'][:]\n",
      "        link_x = xcc[flow_links - 1]\n",
      "        link_y = ycc[flow_links - 1]\n",
      "\n",
      "        for line_x, line_y in zip(link_x, link_y):\n",
      "            ax.add_line(matplotlib.lines.Line2D(line_x, line_y, alpha=0.7, linewidth=2, linestyle=':'))\n",
      "\n",
      "    if boundary_edges:\n",
      "        net_links = ds.variables['NetLink'][:]\n",
      "        net_link_x = x[net_links - 1]\n",
      "        net_link_y = y[net_links - 1]\n",
      "        bnd_links = ds.variables['BndLink'][:]\n",
      "        bnd_link_x = net_link_x[bnd_links-1, :]\n",
      "        bnd_link_y = net_link_y[bnd_links-1, :]\n",
      "\n",
      "        for line_x, line_y in zip(bnd_link_x, bnd_link_y):\n",
      "            ax.add_line(matplotlib.lines.Line2D(line_x, line_y, alpha=0.8, color=cell_color, linewidth=3))\n",
      "        \n",
      "    ds.close()\n",
      "\n",
      "    ax.autoscale()\n",
      "   "
     ],
     "language": "python",
     "metadata": {},
     "outputs": [],
     "prompt_number": 18
    },
    {
     "cell_type": "code",
     "collapsed": false,
     "input": [
      "grid_file = '../../test_data/data_local/maas/maasb2_net.nc'\n"
     ],
     "language": "python",
     "metadata": {},
     "outputs": [],
     "prompt_number": 19
    },
    {
     "cell_type": "code",
     "collapsed": false,
     "input": [
      "ds = nc.Dataset(grid_file)\n",
      "x = ds.variables['NetNode_x'][:]\n",
      "y = ds.variables['NetNode_y'][:]\n",
      "z = ds.variables['NetNode_z'][:]\n",
      "cell_points = ds.variables['NetElemNode'][:]\n",
      "\n",
      "for i in ds.ncattrs():\n",
      "    print i + ', ' + ds.getncattr(i)\n",
      "\n",
      "v = ds.variables['NetNode_x']\n",
      "for i in v.ncattrs():\n",
      "    print i + ', ' + v.getncattr(i)\n"
     ],
     "language": "python",
     "metadata": {},
     "outputs": [
      {
       "output_type": "stream",
       "stream": "stdout",
       "text": [
        "institution, Deltares\n",
        "references, http://www.deltares.nl\n",
        "source, Deltares, D-Flow FM Version 1.1.93.31890M, Jan 29 2014, 17:25:03, model\n",
        "history, Created on 2014-01-30T11:34:13+0100, D-Flow FM\n",
        "Conventions, CF-1.5:Deltares-0.1\n",
        "units, m\n",
        "standard_name, projection_x_coordinate\n",
        "long_name, x-coordinate of net nodes\n",
        "grid_mapping, projected_coordinate_system\n"
       ]
      }
     ],
     "prompt_number": 30
    },
    {
     "cell_type": "code",
     "collapsed": false,
     "input": [
      "\n",
      "f, ax = plt.subplots(1, 1)\n",
      "plot_grid(ax, grid_file, points=False)"
     ],
     "language": "python",
     "metadata": {},
     "outputs": [
      {
       "ename": "IndexError",
       "evalue": "index out of bounds",
       "output_type": "pyerr",
       "traceback": [
        "\u001b[1;31m---------------------------------------------------------------------------\u001b[0m\n\u001b[1;31mIndexError\u001b[0m                                Traceback (most recent call last)",
        "\u001b[1;32m<ipython-input-15-98490e1fa836>\u001b[0m in \u001b[0;36m<module>\u001b[1;34m()\u001b[0m\n\u001b[0;32m      2\u001b[0m \u001b[1;33m\u001b[0m\u001b[0m\n\u001b[0;32m      3\u001b[0m \u001b[0mf\u001b[0m\u001b[1;33m,\u001b[0m \u001b[0max\u001b[0m \u001b[1;33m=\u001b[0m \u001b[0mplt\u001b[0m\u001b[1;33m.\u001b[0m\u001b[0msubplots\u001b[0m\u001b[1;33m(\u001b[0m\u001b[1;36m1\u001b[0m\u001b[1;33m,\u001b[0m \u001b[1;36m1\u001b[0m\u001b[1;33m)\u001b[0m\u001b[1;33m\u001b[0m\u001b[0m\n\u001b[1;32m----> 4\u001b[1;33m \u001b[0mplot_grid\u001b[0m\u001b[1;33m(\u001b[0m\u001b[0max\u001b[0m\u001b[1;33m,\u001b[0m \u001b[0mgrid_file\u001b[0m\u001b[1;33m,\u001b[0m \u001b[0mpoints\u001b[0m\u001b[1;33m=\u001b[0m\u001b[0mFalse\u001b[0m\u001b[1;33m)\u001b[0m\u001b[1;33m\u001b[0m\u001b[0m\n\u001b[0m",
        "\u001b[1;32m<ipython-input-14-55d8c05142c8>\u001b[0m in \u001b[0;36mplot_grid\u001b[1;34m(ax, path, points, point_color, point_size, point_alpha, point_marker, cells, cell_color, cell_alpha, cell_values, cells_colorbar, cell_centers, cell_links, cell_labels, cell_labels_variable, boundary_edges)\u001b[0m\n\u001b[0;32m     33\u001b[0m                 \u001b[1;32mif\u001b[0m \u001b[0mindex\u001b[0m \u001b[1;33m>\u001b[0m \u001b[0mlen\u001b[0m\u001b[1;33m(\u001b[0m\u001b[0mx\u001b[0m\u001b[1;33m)\u001b[0m\u001b[1;33m:\u001b[0m\u001b[1;33m\u001b[0m\u001b[0m\n\u001b[0;32m     34\u001b[0m                     \u001b[1;32mprint\u001b[0m \u001b[1;34m'Error: '\u001b[0m \u001b[1;33m+\u001b[0m \u001b[0mindex\u001b[0m \u001b[1;33m+\u001b[0m \u001b[1;34m\" \"\u001b[0m \u001b[1;33m+\u001b[0m \u001b[0mcell_size\u001b[0m\u001b[1;33m\u001b[0m\u001b[0m\n\u001b[1;32m---> 35\u001b[1;33m                 \u001b[0mcell_coords\u001b[0m\u001b[1;33m.\u001b[0m\u001b[0mappend\u001b[0m\u001b[1;33m(\u001b[0m\u001b[1;33m(\u001b[0m\u001b[0mx\u001b[0m\u001b[1;33m[\u001b[0m\u001b[0mindex\u001b[0m\u001b[1;33m]\u001b[0m\u001b[1;33m,\u001b[0m \u001b[0my\u001b[0m\u001b[1;33m[\u001b[0m\u001b[0mindex\u001b[0m\u001b[1;33m]\u001b[0m\u001b[1;33m)\u001b[0m\u001b[1;33m)\u001b[0m\u001b[1;33m\u001b[0m\u001b[0m\n\u001b[0m\u001b[0;32m     36\u001b[0m             \u001b[0mall_cell_coords\u001b[0m\u001b[1;33m.\u001b[0m\u001b[0mappend\u001b[0m\u001b[1;33m(\u001b[0m\u001b[0mcell_coords\u001b[0m\u001b[1;33m)\u001b[0m\u001b[1;33m\u001b[0m\u001b[0m\n\u001b[0;32m     37\u001b[0m \u001b[1;33m\u001b[0m\u001b[0m\n",
        "\u001b[1;31mIndexError\u001b[0m: index out of bounds"
       ]
      },
      {
       "output_type": "stream",
       "stream": "stdout",
       "text": [
        "[3 3 3 ..., 4 4 4]\n"
       ]
      },
      {
       "metadata": {},
       "output_type": "display_data",
       "png": "[encoded data removed]",
       "text": [
        "<matplotlib.figure.Figure at 0x6ffbef0>"
       ]
      }
     ],
     "prompt_number": 15
    }
   ],
   "metadata": {}
  }
 ]
}