{
 "metadata": {
  "name": ""
 },
 "nbformat": 3,
 "nbformat_minor": 0,
 "worksheets": [
  {
   "cells": [
    {
     "cell_type": "heading",
     "level": 3,
     "metadata": {},
     "source": [
      "Read D-FLOW FM model output from NetCDF and render using VTK"
     ]
    },
    {
     "cell_type": "code",
     "collapsed": false,
     "input": [
      "import src.vtk_utils as vtk_utils"
     ],
     "language": "python",
     "metadata": {},
     "outputs": [],
     "prompt_number": 2
    },
    {
     "cell_type": "code",
     "collapsed": false,
     "input": [
      "grid =  vtk_utils.read_grid('../../test_data/par32/par32_dt0d6_24h_0000_map.nc')\n",
      "actor =  vtk_utils.create_grid_actor(grid)\n"
     ],
     "language": "python",
     "metadata": {},
     "outputs": [],
     "prompt_number": 3
    },
    {
     "cell_type": "code",
     "collapsed": false,
     "input": [
      "vtk_utils.show(actor, zoom = 1.95, cells=False, edges=True)\n",
      "\n",
      "# isolines=True,\n",
      "# wireframe=True) \n",
      "# camera_position=grid.GetPoint(0)\n",
      "\n",
      "# from vtk.util import numpy_support\n",
      "# xyz = numpy_support.vtk_to_numpy(grid.GetPoints().GetData())\n",
      "# plot(xyz)"
     ],
     "language": "python",
     "metadata": {},
     "outputs": [
      {
       "metadata": {},
       "output_type": "pyout",
       "png": "[encoded data removed]",
       "prompt_number": 4,
       "text": [
        "<IPython.core.display.Image at 0x75598f0>"
       ]
      }
     ],
     "prompt_number": 4
    },
    {
     "cell_type": "code",
     "collapsed": false,
     "input": [
      "path = '../../test_data/par32/par32_dt0d6_24h_0000_map.nc'\n",
      "time_step = 0\n",
      "\n",
      "grid_water =  vtk_utils.read_water_grid_from_nc(grid, time_step, path)\n",
      "\n",
      "vtk_utils.write_grid_to_vtk(grid_water, path + \"_water_\" + str(time_step) + \".vtk\", \"water_level\")\n",
      "# show(create_grid_actor(grid_water), zoom = 1.5, wireframe=True)"
     ],
     "language": "python",
     "metadata": {},
     "outputs": [
      {
       "ename": "AttributeError",
       "evalue": "'NoneType' object has no attribute 'SetName'",
       "output_type": "pyerr",
       "traceback": [
        "\u001b[1;31m---------------------------------------------------------------------------\u001b[0m\n\u001b[1;31mAttributeError\u001b[0m                            Traceback (most recent call last)",
        "\u001b[1;32m<ipython-input-5-4bad2eec727f>\u001b[0m in \u001b[0;36m<module>\u001b[1;34m()\u001b[0m\n\u001b[0;32m      2\u001b[0m \u001b[0mtime_step\u001b[0m \u001b[1;33m=\u001b[0m \u001b[1;36m0\u001b[0m\u001b[1;33m\u001b[0m\u001b[0m\n\u001b[0;32m      3\u001b[0m \u001b[1;33m\u001b[0m\u001b[0m\n\u001b[1;32m----> 4\u001b[1;33m \u001b[0mgrid_water\u001b[0m \u001b[1;33m=\u001b[0m  \u001b[0mvtk_utils\u001b[0m\u001b[1;33m.\u001b[0m\u001b[0mread_water_grid_from_nc\u001b[0m\u001b[1;33m(\u001b[0m\u001b[0mgrid\u001b[0m\u001b[1;33m,\u001b[0m \u001b[0mtime_step\u001b[0m\u001b[1;33m,\u001b[0m \u001b[0mpath\u001b[0m\u001b[1;33m)\u001b[0m\u001b[1;33m\u001b[0m\u001b[0m\n\u001b[0m\u001b[0;32m      5\u001b[0m \u001b[1;33m\u001b[0m\u001b[0m\n\u001b[0;32m      6\u001b[0m \u001b[0mvtk_utils\u001b[0m\u001b[1;33m.\u001b[0m\u001b[0mwrite_grid_to_vtk\u001b[0m\u001b[1;33m(\u001b[0m\u001b[0mgrid_water\u001b[0m\u001b[1;33m,\u001b[0m \u001b[0mpath\u001b[0m \u001b[1;33m+\u001b[0m \u001b[1;34m\"_water_\"\u001b[0m \u001b[1;33m+\u001b[0m \u001b[0mstr\u001b[0m\u001b[1;33m(\u001b[0m\u001b[0mtime_step\u001b[0m\u001b[1;33m)\u001b[0m \u001b[1;33m+\u001b[0m \u001b[1;34m\".vtk\"\u001b[0m\u001b[1;33m,\u001b[0m \u001b[1;34m\"water_level\"\u001b[0m\u001b[1;33m)\u001b[0m\u001b[1;33m\u001b[0m\u001b[0m\n",
        "\u001b[1;32mD:\\src\\ds\\trunk\\additional\\unstruc\\python\\notebooks\\src\\vtk_utils.pyc\u001b[0m in \u001b[0;36mread_water_grid_from_nc\u001b[1;34m(bathymetry_grid, time_step, path)\u001b[0m\n\u001b[0;32m    237\u001b[0m     \u001b[0mpoint_data\u001b[0m \u001b[1;33m=\u001b[0m \u001b[0mgrid_water\u001b[0m\u001b[1;33m.\u001b[0m\u001b[0mGetPointData\u001b[0m\u001b[1;33m(\u001b[0m\u001b[1;33m)\u001b[0m\u001b[1;33m.\u001b[0m\u001b[0mGetArray\u001b[0m\u001b[1;33m(\u001b[0m\u001b[1;36m0\u001b[0m\u001b[1;33m)\u001b[0m\u001b[1;33m\u001b[0m\u001b[0m\n\u001b[0;32m    238\u001b[0m \u001b[1;33m\u001b[0m\u001b[0m\n\u001b[1;32m--> 239\u001b[1;33m     \u001b[0mgrid_water\u001b[0m\u001b[1;33m.\u001b[0m\u001b[0mGetPointData\u001b[0m\u001b[1;33m(\u001b[0m\u001b[1;33m)\u001b[0m\u001b[1;33m.\u001b[0m\u001b[0mGetScalars\u001b[0m\u001b[1;33m(\u001b[0m\u001b[1;33m)\u001b[0m\u001b[1;33m.\u001b[0m\u001b[0mSetName\u001b[0m\u001b[1;33m(\u001b[0m\u001b[1;34m\"water_level\"\u001b[0m\u001b[1;33m)\u001b[0m\u001b[1;33m\u001b[0m\u001b[0m\n\u001b[0m\u001b[0;32m    240\u001b[0m \u001b[1;33m\u001b[0m\u001b[0m\n\u001b[0;32m    241\u001b[0m     \u001b[1;32mprint\u001b[0m \u001b[0mdata\u001b[0m\u001b[1;33m.\u001b[0m\u001b[0mGetComponentName\u001b[0m\u001b[1;33m(\u001b[0m\u001b[1;36m2\u001b[0m\u001b[1;33m)\u001b[0m\u001b[1;33m\u001b[0m\u001b[0m\n",
        "\u001b[1;31mAttributeError\u001b[0m: 'NoneType' object has no attribute 'SetName'"
       ]
      }
     ],
     "prompt_number": 5
    },
    {
     "cell_type": "code",
     "collapsed": false,
     "input": [
      "import glob\n",
      "\n",
      "# for f in []:\n",
      "for f in glob.glob('./*.nc'):\n",
      "    grid =  vtk_utils.read_grid(f)\n",
      "    vtk_utils.write_grid_to_vtk(grid, f + '.vtk')\n"
     ],
     "language": "python",
     "metadata": {},
     "outputs": [
      {
       "output_type": "stream",
       "stream": "stdout",
       "text": [
        ".\\par32_dt0d6_24h_0000_map.nc.vtk\n",
        ".\\par32_dt0d6_24h_0001_map.nc.vtk"
       ]
      },
      {
       "output_type": "stream",
       "stream": "stdout",
       "text": [
        "\n",
        ".\\par32_dt0d6_24h_0002_map.nc.vtk"
       ]
      },
      {
       "output_type": "stream",
       "stream": "stdout",
       "text": [
        "\n",
        ".\\par32_dt0d6_24h_0003_map.nc.vtk"
       ]
      },
      {
       "output_type": "stream",
       "stream": "stdout",
       "text": [
        "\n",
        ".\\par32_dt0d6_24h_0004_map.nc.vtk"
       ]
      },
      {
       "output_type": "stream",
       "stream": "stdout",
       "text": [
        "\n",
        ".\\par32_dt0d6_24h_0005_map.nc.vtk"
       ]
      },
      {
       "output_type": "stream",
       "stream": "stdout",
       "text": [
        "\n",
        ".\\par32_dt0d6_24h_0006_map.nc.vtk"
       ]
      },
      {
       "output_type": "stream",
       "stream": "stdout",
       "text": [
        "\n",
        ".\\par32_dt0d6_24h_0007_map.nc.vtk"
       ]
      },
      {
       "output_type": "stream",
       "stream": "stdout",
       "text": [
        "\n",
        ".\\par32_dt0d6_24h_0008_map.nc.vtk"
       ]
      },
      {
       "output_type": "stream",
       "stream": "stdout",
       "text": [
        "\n",
        ".\\par32_dt0d6_24h_0009_map.nc.vtk"
       ]
      },
      {
       "output_type": "stream",
       "stream": "stdout",
       "text": [
        "\n",
        ".\\par32_dt0d6_24h_0010_map.nc.vtk"
       ]
      },
      {
       "output_type": "stream",
       "stream": "stdout",
       "text": [
        "\n",
        ".\\par32_dt0d6_24h_0011_map.nc.vtk"
       ]
      },
      {
       "output_type": "stream",
       "stream": "stdout",
       "text": [
        "\n",
        ".\\par32_dt0d6_24h_0012_map.nc.vtk"
       ]
      },
      {
       "output_type": "stream",
       "stream": "stdout",
       "text": [
        "\n",
        ".\\par32_dt0d6_24h_0013_map.nc.vtk"
       ]
      },
      {
       "output_type": "stream",
       "stream": "stdout",
       "text": [
        "\n",
        ".\\par32_dt0d6_24h_0014_map.nc.vtk"
       ]
      },
      {
       "output_type": "stream",
       "stream": "stdout",
       "text": [
        "\n",
        ".\\par32_dt0d6_24h_0015_map.nc.vtk"
       ]
      },
      {
       "output_type": "stream",
       "stream": "stdout",
       "text": [
        "\n",
        ".\\par32_dt0d6_24h_0016_map.nc.vtk"
       ]
      },
      {
       "output_type": "stream",
       "stream": "stdout",
       "text": [
        "\n",
        ".\\par32_dt0d6_24h_0017_map.nc.vtk"
       ]
      },
      {
       "output_type": "stream",
       "stream": "stdout",
       "text": [
        "\n",
        ".\\par32_dt0d6_24h_0018_map.nc.vtk"
       ]
      },
      {
       "output_type": "stream",
       "stream": "stdout",
       "text": [
        "\n",
        ".\\par32_dt0d6_24h_0019_map.nc.vtk"
       ]
      },
      {
       "output_type": "stream",
       "stream": "stdout",
       "text": [
        "\n",
        ".\\par32_dt0d6_24h_0020_map.nc.vtk"
       ]
      },
      {
       "output_type": "stream",
       "stream": "stdout",
       "text": [
        "\n",
        ".\\par32_dt0d6_24h_0021_map.nc.vtk"
       ]
      },
      {
       "output_type": "stream",
       "stream": "stdout",
       "text": [
        "\n",
        ".\\par32_dt0d6_24h_0022_map.nc.vtk"
       ]
      },
      {
       "output_type": "stream",
       "stream": "stdout",
       "text": [
        "\n",
        ".\\par32_dt0d6_24h_0023_map.nc.vtk"
       ]
      },
      {
       "output_type": "stream",
       "stream": "stdout",
       "text": [
        "\n",
        ".\\par32_dt0d6_24h_0024_map.nc.vtk"
       ]
      },
      {
       "output_type": "stream",
       "stream": "stdout",
       "text": [
        "\n",
        ".\\par32_dt0d6_24h_0025_map.nc.vtk"
       ]
      },
      {
       "output_type": "stream",
       "stream": "stdout",
       "text": [
        "\n",
        ".\\par32_dt0d6_24h_0026_map.nc.vtk"
       ]
      },
      {
       "output_type": "stream",
       "stream": "stdout",
       "text": [
        "\n",
        ".\\par32_dt0d6_24h_0027_map.nc.vtk"
       ]
      },
      {
       "output_type": "stream",
       "stream": "stdout",
       "text": [
        "\n",
        ".\\par32_dt0d6_24h_0028_map.nc.vtk"
       ]
      },
      {
       "output_type": "stream",
       "stream": "stdout",
       "text": [
        "\n",
        ".\\par32_dt0d6_24h_0029_map.nc.vtk"
       ]
      },
      {
       "output_type": "stream",
       "stream": "stdout",
       "text": [
        "\n",
        ".\\par32_dt0d6_24h_0030_map.nc.vtk"
       ]
      },
      {
       "output_type": "stream",
       "stream": "stdout",
       "text": [
        "\n",
        ".\\par32_dt0d6_24h_0031_map.nc.vtk"
       ]
      },
      {
       "output_type": "stream",
       "stream": "stdout",
       "text": [
        "\n"
       ]
      }
     ],
     "prompt_number": 4
    },
    {
     "cell_type": "code",
     "collapsed": false,
     "input": [
      "pylab.rcParams['figure.figsize'] = (15.0, 8.0)\n",
      "pylab.rcParams['image.aspect'] = 'equal'\n",
      "\n",
      "files = glob.glob('../../test_data/par32/*.nc')\n",
      "\n",
      "p = ProgressBar(len(files))\n",
      "\n",
      "for i, f in enumerate(files):\n",
      "    x, y, z, cells = read_grid_parameters_from_nc(f)\n",
      "    plot(x, y, marker=',', linestyle='')\n",
      "    p.animate(i)\n",
      "  \n",
      "# plt.xlim(10000, 40000)\n",
      "# plt.ylim(0, 30000)\n",
      "\n",
      "plt.show()"
     ],
     "language": "python",
     "metadata": {},
     "outputs": []
    }
   ],
   "metadata": {}
  }
 ]
}